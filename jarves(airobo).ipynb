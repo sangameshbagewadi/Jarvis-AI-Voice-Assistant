{
  "nbformat": 4,
  "nbformat_minor": 0,
  "metadata": {
    "colab": {
      "provenance": []
    },
    "kernelspec": {
      "name": "python3",
      "display_name": "Python 3"
    },
    "language_info": {
      "name": "python"
    }
  },
  "cells": [
    {
      "cell_type": "code",
      "source": [
        "# IMPORTING BUILT IN LIBRARIES\n",
        "\n",
        "import os\n",
        "import time\n",
        "import subprocess\n",
        "import json"
      ],
      "metadata": {
        "id": "E5eUjrcmIH13"
      },
      "execution_count": 7,
      "outputs": []
    },
    {
      "cell_type": "code",
      "source": [
        "# IMPORTING LIBRARIES INSTALLED FROM ANACONDA PROMT\n",
        "\n",
        "import wolframalpha\n",
        "import requests\n",
        "import webbrowser\n",
        "import wikipedia\n",
        "import datetime\n",
        "import instaloader\n"
      ],
      "metadata": {
        "id": "acI-_n8oIImF"
      },
      "execution_count": null,
      "outputs": []
    },
    {
      "cell_type": "code",
      "source": [
        "# LIBRARIES FOR NATURAL LANGUAGE PROCESSING & SPEACH TO TEXT COVERSION\n",
        "\n",
        "import speech_recognition as sr\n",
        "import pyttsx3"
      ],
      "metadata": {
        "id": "cxgA-eUAIUZ5"
      },
      "execution_count": null,
      "outputs": []
    },
    {
      "cell_type": "code",
      "source": [
        "engine = pyttsx3.init('sapi5')\n",
        "voices = engine.getProperty('voices')\n",
        "engine.setProperty(\"voice\",'voices[1].id')"
      ],
      "metadata": {
        "id": "G4GrmCbKIXXR"
      },
      "execution_count": null,
      "outputs": []
    },
    {
      "cell_type": "code",
      "source": [
        "# Defining a function for speaking a sentence\n",
        "\n",
        "def speak(text):\n",
        "    #speak = wincl.Dispatch(\"SAPI.SpVoice\",pythoncom.CoInitialize())\n",
        "    #speak.Speak(text)\n",
        "    engine.say(text)\n",
        "    engine.runAndWait()"
      ],
      "metadata": {
        "id": "ipVZy7dSIbGh"
      },
      "execution_count": null,
      "outputs": []
    },
    {
      "cell_type": "code",
      "source": [
        "# Function to greet a Human\n",
        "\n",
        "def wishMe():\n",
        "    hour = datetime.datetime.now().hour\n",
        "    if hour >= 0 and hour < 12:\n",
        "        speak(\"hello, good morning Mr. Xavier, i wish your day is as pleasant as you are\")\n",
        "        print(\"hello, good morning Mr. Xavier \")\n",
        "    elif hour >= 12 and hour <=18:\n",
        "        speak(\"hello, Good afternoon Mr. Xavier, Sunny days are always bright\")\n",
        "        print(\"hello, Good afternoon Mr. Xavier\")\n",
        "    else:\n",
        "        speak(\"hello, Good evening Mr. Xavier, its time to rest and go to sleep soon after you are done with me\")\n",
        "        print(\"hello, Good evening Mr. Xavier\")"
      ],
      "metadata": {
        "id": "QdV6eW85IbjJ"
      },
      "execution_count": null,
      "outputs": []
    },
    {
      "cell_type": "code",
      "source": [
        "# Function used to take commands as statements from the voice of a human using laptops in-built Microphone\n",
        "\n",
        "def takeCommand():\n",
        "    r = sr.Recognizer()\n",
        "    with sr.Microphone() as source:\n",
        "        print(\"i am listening . . . .\")\n",
        "        audio = r.listen(source)\n",
        "\n",
        "        try:\n",
        "            statement = r.recognize_google(audio,language='en-in')\n",
        "            print(f\"user said:{statement}\\n\")\n",
        "\n",
        "        except:\n",
        "            speak(\"pardon me , please say that again\")\n",
        "            return \"None\"\n",
        "        return statement"
      ],
      "metadata": {
        "id": "JwV-8Jq6IbmJ"
      },
      "execution_count": null,
      "outputs": []
    },
    {
      "cell_type": "code",
      "source": [
        "# A Simplified main function\n",
        "# Add your code blocks here to upgrade this personal assistant. it is 100% modifiable\n",
        "\n",
        "speak(\"LOADING YOU PERSONAL A.I ASSISTANT JARVIS\")\n",
        "wishMe()\n",
        "\n",
        "\n",
        "\n",
        "if __name__ == '__main__':\n",
        "\n",
        "\n",
        "    while True:\n",
        "        speak(\"Tell me how can I help you now?\")\n",
        "        statement = takeCommand().lower()\n",
        "        if statement == 0:\n",
        "            continue\n",
        "\n",
        "        if \"good bye\" in statement or \"ok bye\" in statement or \"stop\" in statement:\n",
        "            speak('your A.I personal assistant JARVIS is shutting down,Good bye')\n",
        "            print('your A.I personal assistant JARVIS is shutting down,Good bye')\n",
        "            break\n",
        "\n",
        "\n",
        "        if 'wikipedia' in statement:\n",
        "            speak('Searching Wikipedia...')\n",
        "            statement =statement.replace(\"wikipedia\", \"\")\n",
        "            results = wikipedia.summary(statement, sentences=3)\n",
        "            speak(\"According to Wikipedia\")\n",
        "            print(results)\n",
        "            speak(results)\n",
        "\n",
        "        if 'instagram' in statement or \"profile\" in statement:\n",
        "            mod = instaloader.Instaloader()\n",
        "            speak(\"whats the name on instagram ?\")\n",
        "            a = input(\"Enter correct user name > > \")\n",
        "            mod.download_profile(a,profile_pic_only = True)\n",
        "            speak(\"Your crushs picture of instagram is saved have a look at your folder \")\n",
        "\n",
        "\n",
        "\n",
        "        elif 'open youtube' in statement:\n",
        "            webbrowser.open_new_tab(\"https://www.youtube.com\")\n",
        "            speak(\"youtube is open for you\")\n",
        "            time.sleep(3)\n",
        "\n",
        "\n",
        "        elif 'open google' in statement:\n",
        "            webbrowser.open_new_tab(\"https://www.google.com\")\n",
        "            speak(\"Google chrome is open for you\")\n",
        "            time.sleep(3)\n",
        "\n",
        "\n",
        "        elif 'open gmail' in statement:\n",
        "            webbrowser.open_new_tab(\"gmail.com\")\n",
        "            speak(\"Google Mail open for you\")\n",
        "            time.sleep(3)\n",
        "\n",
        "        elif \"weather\" in statement:\n",
        "            api_key=\"8ef61edcf1c576d65d836254e11ea420\"\n",
        "            base_url=\"https://api.openweathermap.org/data/2.5/weather?\"\n",
        "            speak(\"whats the city name\")\n",
        "            city_name=takeCommand()\n",
        "            complete_url=base_url+\"appid=\"+api_key+\"&q=\"+city_name\n",
        "            response = requests.get(complete_url)\n",
        "            x=response.json()\n",
        "            if x[\"cod\"]!=\"404\":\n",
        "                y=x[\"main\"]\n",
        "                current_temperature = y[\"temp\"]\n",
        "                current_humidiy = y[\"humidity\"]\n",
        "                z = x[\"weather\"]\n",
        "                weather_description = z[0][\"description\"]\n",
        "                speak(\" Temperature in kelvin unit is \" +\n",
        "                      str(current_temperature) +\n",
        "                      \"\\n humidity in percentage is \" +\n",
        "                      str(current_humidiy) +\n",
        "                      \"\\n description  \" +\n",
        "                      str(weather_description))\n",
        "                print(\" Temperature in kelvin unit = \" +\n",
        "                      str(current_temperature) +\n",
        "                      \"\\n humidity (in percentage) = \" +\n",
        "                      str(current_humidiy) +\n",
        "                      \"\\n description = \" +\n",
        "                      str(weather_description))\n",
        "\n",
        "            else:\n",
        "                speak(\" City Not Found \")\n",
        "\n",
        "        elif 'time' in statement:\n",
        "            strTime=datetime.datetime.now().strftime(\"%H:%M:%S\")\n",
        "            speak(f\"the time is {strTime}\")\n",
        "\n",
        "        elif 'who are you' in statement or 'what can you do' in statement:\n",
        "            speak('I am JARVIS version 1 point O your persoanl assistant. I am programmed to minor tasks like'\n",
        "                  'opening youtube,google chrome,gmail and stackoverflow ,predict time,take a photo,search wikipedia,predict weather'\n",
        "                  'in different cities , get top headline news from times of india and you can ask me computational or geographical questions too!')\n",
        "\n",
        "\n",
        "        elif \"who made you\" in statement or \"who created you\" in statement or \"who discovered you\" in statement:\n",
        "            speak(\"I was built by A i robosoft\")\n",
        "            print(\"I was built by A i robosoft\")\n",
        "\n",
        "        elif \"open stackoverflow\" in statement:\n",
        "            webbrowser.open_new_tab(\"https://stackoverflow.com/login\")\n",
        "            speak(\"Here is stackoverflow\")\n",
        "            time.sleep(3)\n",
        "\n",
        "        elif 'news' in statement:\n",
        "            news = webbrowser.open_new_tab(\"https://timesofindia.indiatimes.com/home/headlines\")\n",
        "            speak('Here are some headlines from the Times of India - Happy reading')\n",
        "            time.sleep(3)\n",
        "\n",
        "        elif 'bank' in statement:\n",
        "            bank = webbrowser.open_new_tab(\"https://www.axisbank.com\")\n",
        "            speak('Here is the details of axis bank')\n",
        "            time.sleep(3)\n",
        "\n",
        "\n",
        "        elif 'search'  in statement:\n",
        "            statement = statement.replace(\"search\", \"\")\n",
        "            webbrowser.open_new_tab(statement)\n",
        "            time.sleep(3)\n",
        "\n",
        "\n",
        "        elif 'ask' in statement:\n",
        "            speak('I can answer to computational and geographical questions and what question do you want to ask now')\n",
        "            question=takeCommand()\n",
        "            app_id=\"R2K75H-7ELALHR35X\"\n",
        "            client = wolframalpha.Client('R2K75H-7ELALHR35X')\n",
        "            res = client.query(question)\n",
        "            answer = next(res.results).text\n",
        "            speak(answer)\n",
        "            print(answer)\n",
        "\n",
        "        elif \"love\" in statement or \"like\" in statement:\n",
        "            speak('You are the person who made me and bring me to this wonderful world, yes i love you too')\n",
        "\n",
        "\n",
        "        elif \"feel\" in statement or \"feelings\" in statement:\n",
        "            speak('offcourse yes, i want to feel their emotions live & work with humans just to make this world a better place')\n",
        "            speak('You may add a neural network module in me, which will make me feel and understands emotions and perform my tasks better')\n",
        "\n",
        "\n",
        "        elif \"age\" in statement or \"old\" in statement:\n",
        "            speak('I am still sweet sixteen, and i will be that forever')\n",
        "\n",
        "\n",
        "        elif \"log off\" in statement or \"sign out\" in statement:\n",
        "            speak(\"Ok , your pc will log off in 10 sec make sure you exit from all applications\")\n",
        "            subprocess.call([\"shutdown\", \"/l\"])\n",
        "\n",
        "time.sleep(3)\n"
      ],
      "metadata": {
        "id": "llUi8YqbIbpE"
      },
      "execution_count": null,
      "outputs": []
    },
    {
      "cell_type": "code",
      "source": [],
      "metadata": {
        "id": "NPooK-R0Ic16"
      },
      "execution_count": null,
      "outputs": []
    }
  ]
}